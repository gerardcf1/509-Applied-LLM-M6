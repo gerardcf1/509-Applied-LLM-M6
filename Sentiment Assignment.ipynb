{
 "cells": [
  {
   "cell_type": "markdown",
   "id": "7f79baf9",
   "metadata": {},
   "source": [
    "# ADS 509 Sentiment Assignment\n",
    "\n",
    "This notebook holds the Sentiment Assignment for Module 6 in ADS 509, Applied Text Mining. Work through this notebook, writing code and answering questions where required. \n",
    "\n",
    "In a previous assignment you put together Twitter data and lyrics data on two artists. In this assignment we apply sentiment analysis to those data sets. If, for some reason, you did not complete that previous assignment, data to use for this assignment can be found in the assignment materials section of Blackboard. \n"
   ]
  },
  {
   "cell_type": "markdown",
   "id": "aae8e2e1",
   "metadata": {},
   "source": [
    "## General Assignment Instructions\n",
    "\n",
    "These instructions are included in every assignment, to remind you of the coding standards for the class. Feel free to delete this cell after reading it. \n",
    "\n",
    "One sign of mature code is conforming to a style guide. We recommend the [Google Python Style Guide](https://google.github.io/styleguide/pyguide.html). If you use a different style guide, please include a cell with a link. \n",
    "\n",
    "Your code should be relatively easy-to-read, sensibly commented, and clean. Writing code is a messy process, so please be sure to edit your final submission. Remove any cells that are not needed or parts of cells that contain unnecessary code. Remove inessential `import` statements and make sure that all such statements are moved into the designated cell. \n",
    "\n",
    "Make use of non-code cells for written commentary. These cells should be grammatical and clearly written. In some of these cells you will have questions to answer. The questions will be marked by a \"Q:\" and will have a corresponding \"A:\" spot for you. *Make sure to answer every question marked with a `Q:` for full credit.* \n"
   ]
  },
  {
   "cell_type": "code",
   "execution_count": 24,
   "id": "e2d096b7",
   "metadata": {},
   "outputs": [],
   "source": [
    "import os\n",
    "import re\n",
    "import emoji\n",
    "import pandas as pd\n",
    "import numpy as np\n",
    "\n",
    "from collections import Counter, defaultdict\n",
    "from string import punctuation\n",
    "\n",
    "from nltk.corpus import stopwords\n",
    "\n",
    "sw = stopwords.words(\"english\")"
   ]
  },
  {
   "cell_type": "code",
   "execution_count": 25,
   "id": "6b555ab2",
   "metadata": {},
   "outputs": [],
   "source": [
    "# Add any additional import statements you need here\n",
    "\n",
    "\n"
   ]
  },
  {
   "cell_type": "code",
   "execution_count": 26,
   "id": "923b5a86",
   "metadata": {},
   "outputs": [],
   "source": [
    "# change `data_location` to the location of the folder on your machine.\n",
    "data_location = \"./\"\n",
    "\n",
    "# These subfolders should still work if you correctly stored the \n",
    "# data from the Module 1 assignment\n",
    "twitter_folder = \"twitter/\"\n",
    "lyrics_folder = \"lyrics/\"\n",
    "\n",
    "positive_words_file = \"positive-words.txt\"\n",
    "negative_words_file = \"negative-words.txt\"\n",
    "tidy_text_file = \"tidytext_sentiments.txt\""
   ]
  },
  {
   "cell_type": "markdown",
   "id": "9d3bf93e",
   "metadata": {},
   "source": [
    "## Data Input\n",
    "\n",
    "Now read in each of the corpora. For the lyrics data, it may be convenient to store the entire contents of the file to make it easier to inspect the titles individually, as you'll do in the last part of the assignment. In the solution, I stored the lyrics data in a dictionary with two dimensions of keys: artist and song. The value was the file contents. A Pandas data frame would work equally well. \n",
    "\n",
    "For the Twitter data, we only need the description field for this assignment. Feel free all the descriptions read it into a data structure. In the solution, I stored the descriptions as a dictionary of lists, with the key being the artist. \n",
    "\n",
    "\n"
   ]
  },
  {
   "cell_type": "code",
   "execution_count": 27,
   "id": "37d70801",
   "metadata": {},
   "outputs": [],
   "source": [
    "# Read in the lyrics data\n",
    "# Construct the path to the lyrics folder\n",
    "lyrics_path = os.path.join(data_location, lyrics_folder)\n",
    "\n",
    "# Dictionary to hold lyrics data\n",
    "# Structure: {artist: {song: lyrics_text}}\n",
    "lyrics_data = {}\n",
    "\n",
    "# Walk through all subfolders (each artist) and text files (each song)\n",
    "for artist in os.listdir(lyrics_path):\n",
    "    artist_folder = os.path.join(lyrics_path, artist)\n",
    "    if os.path.isdir(artist_folder):\n",
    "        lyrics_data[artist] = {}\n",
    "        for song_file in os.listdir(artist_folder):\n",
    "            if song_file.endswith(\".txt\"):\n",
    "                song_path = os.path.join(artist_folder, song_file)\n",
    "                with open(song_path, \"r\", encoding=\"utf-8\") as f:\n",
    "                    lyrics_data[artist][song_file.replace(\".txt\", \"\")] = f.read()"
   ]
  },
  {
   "cell_type": "code",
   "execution_count": 28,
   "id": "debcac5a",
   "metadata": {},
   "outputs": [],
   "source": [
    "# Read in the twitter data\n",
    "# Construct the path to the twitter folder\n",
    "twitter_path = os.path.join(data_location, twitter_folder)\n",
    "\n",
    "# Dictionary to hold Twitter data\n",
    "# Structure: {artist: [list of tweet/description texts]}\n",
    "twitter_data = {}\n",
    "\n",
    "for artist in os.listdir(twitter_path):\n",
    "    artist_folder = os.path.join(twitter_path, artist)\n",
    "    if os.path.isdir(artist_folder):\n",
    "        twitter_data[artist] = []\n",
    "        for file in os.listdir(artist_folder):\n",
    "            file_path = os.path.join(artist_folder, file)\n",
    "            if file.endswith(\".txt\"):\n",
    "                with open(file_path, \"r\", encoding=\"utf-8\") as f:\n",
    "                    twitter_data[artist].append(f.read().strip())\n",
    "            elif file.endswith(\".json\"):\n",
    "                # Handle JSON files if they exist\n",
    "                with open(file_path, \"r\", encoding=\"utf-8\") as f:\n",
    "                    data = json.load(f)\n",
    "                    # assuming each JSON has a 'description' field\n",
    "                    if isinstance(data, dict) and \"description\" in data:\n",
    "                        twitter_data[artist].append(data[\"description\"])"
   ]
  },
  {
   "cell_type": "code",
   "execution_count": 29,
   "id": "af9e7a4b",
   "metadata": {},
   "outputs": [
    {
     "name": "stdout",
     "output_type": "stream",
     "text": [
      "Loaded 2006 positive words and 4783 negative words.\n",
      "Total words in sentiment dictionary: 6786\n",
      "Tidytext entries: 15134\n"
     ]
    }
   ],
   "source": [
    "# Read in the positive and negative words and the\n",
    "# tidytext sentiment. Store these so that the positive\n",
    "# words are associated with a score of +1 and negative words\n",
    "# are associated with a score of -1. You can use a dataframe or a \n",
    "# dictionary for this.\n",
    "# Construct file paths\n",
    "positive_path = os.path.join(data_location, positive_words_file)\n",
    "negative_path = os.path.join(data_location, negative_words_file)\n",
    "tidytext_path = os.path.join(data_location, tidy_text_file)\n",
    "\n",
    "# Read positive words\n",
    "with open(positive_path, \"r\", encoding=\"utf-8\", errors=\"ignore\") as f:\n",
    "    positive_words = [w.strip() for w in f if w.strip() and not w.startswith(\";\")]\n",
    "\n",
    "# Read negative words\n",
    "with open(negative_path, \"r\", encoding=\"utf-8\", errors=\"ignore\") as f:\n",
    "    negative_words = [w.strip() for w in f if w.strip() and not w.startswith(\";\")]\n",
    "\n",
    "# Create a sentiment dictionary\n",
    "sentiment_dict = {}\n",
    "\n",
    "for word in positive_words:\n",
    "    sentiment_dict[word] = 1\n",
    "for word in negative_words:\n",
    "    sentiment_dict[word] = -1\n",
    "\n",
    "# Optional: also read in the tidytext sentiment file if it exists\n",
    "if os.path.exists(tidytext_path):\n",
    "    tidy_df = pd.read_csv(tidytext_path, sep=\"\\t\", header=None, names=[\"word\", \"sentiment\"])\n",
    "    tidy_df[\"score\"] = tidy_df[\"sentiment\"].map({\"positive\": 1, \"negative\": -1})\n",
    "else:\n",
    "    tidy_df = pd.DataFrame(columns=[\"word\", \"sentiment\", \"score\"])\n",
    "\n",
    "print(f\"Loaded {len(positive_words)} positive words and {len(negative_words)} negative words.\")\n",
    "print(f\"Total words in sentiment dictionary: {len(sentiment_dict)}\")\n",
    "print(f\"Tidytext entries: {len(tidy_df)}\")"
   ]
  },
  {
   "cell_type": "markdown",
   "id": "6a5f3b12",
   "metadata": {},
   "source": [
    "## Sentiment Analysis on Songs\n",
    "\n",
    "In this section, score the sentiment for all the songs for both artists in your data set. Score the sentiment by manually calculating the sentiment using the combined lexicons provided in this repository. \n",
    "\n",
    "After you have calculated these sentiments, answer the questions at the end of this section.\n"
   ]
  },
  {
   "cell_type": "code",
   "execution_count": 30,
   "id": "664f8d8f",
   "metadata": {},
   "outputs": [
    {
     "name": "stdout",
     "output_type": "stream",
     "text": [
      "  artist                           song  sentiment_score\n",
      "0   cher                 cher_88degrees         0.008798\n",
      "1   cher  cher_adifferentkindoflovesong         0.066406\n",
      "2   cher                  cher_afterall        -0.003257\n",
      "3   cher                     cher_again         0.023810\n",
      "4   cher                     cher_alfie         0.048951\n",
      "\n",
      "Average sentiment by artist:\n",
      "artist\n",
      "cher     0.015965\n",
      "robyn    0.011234\n",
      "Name: sentiment_score, dtype: float64\n"
     ]
    }
   ],
   "source": [
    "# your code here\n",
    "# Function to clean and score text using sentiment_dict\n",
    "def score_sentiment(text, sentiment_dict):\n",
    "    # Lowercase and tokenize\n",
    "    words = re.findall(r'\\b[a-z]+\\b', text.lower())\n",
    "    \n",
    "    # Score each word\n",
    "    scores = [sentiment_dict.get(word, 0) for word in words]\n",
    "    \n",
    "    # Return average sentiment or 0 if no words scored\n",
    "    if scores:\n",
    "        return sum(scores) / len(scores)\n",
    "    else:\n",
    "        return 0\n",
    "\n",
    "# Store sentiment results\n",
    "song_sentiments = []\n",
    "\n",
    "for artist, songs in lyrics_data.items():\n",
    "    for song_title, lyrics in songs.items():\n",
    "        sentiment_score = score_sentiment(lyrics, sentiment_dict)\n",
    "        song_sentiments.append({\n",
    "            \"artist\": artist,\n",
    "            \"song\": song_title,\n",
    "            \"sentiment_score\": sentiment_score\n",
    "        })\n",
    "\n",
    "# Convert to DataFrame for easy analysis\n",
    "song_sentiments_df = pd.DataFrame(song_sentiments)\n",
    "\n",
    "# Display results\n",
    "print(song_sentiments_df.head())\n",
    "print(\"\\nAverage sentiment by artist:\")\n",
    "print(song_sentiments_df.groupby(\"artist\")[\"sentiment_score\"].mean())"
   ]
  },
  {
   "cell_type": "code",
   "execution_count": 31,
   "id": "4f1ae94c",
   "metadata": {},
   "outputs": [
    {
     "data": {
      "text/plain": [
       "artist\n",
       "cher     0.015965\n",
       "robyn    0.011234\n",
       "Name: sentiment_score, dtype: float64"
      ]
     },
     "execution_count": 31,
     "metadata": {},
     "output_type": "execute_result"
    }
   ],
   "source": [
    "song_sentiments_df.groupby(\"artist\")[\"sentiment_score\"].mean()"
   ]
  },
  {
   "cell_type": "code",
   "execution_count": 32,
   "id": "b24b6e3f",
   "metadata": {},
   "outputs": [
    {
     "name": "stdout",
     "output_type": "stream",
     "text": [
      "\n",
      "=== CHER ===\n",
      "Top 3 most positive songs:\n",
      "                          song  sentiment_score\n",
      "181                cher_mylove         0.246073\n",
      "179                cher_moveme         0.174194\n",
      "155  cher_loveandunderstanding         0.150171\n",
      "\n",
      "Bottom 3 most negative songs:\n",
      "                             song  sentiment_score\n",
      "42          cher_crymyselftosleep        -0.107692\n",
      "196               cher_outrageous        -0.090226\n",
      "133  cher_iwalkonguildedsplinters        -0.082508\n",
      "\n",
      "--- Example lyrics from most positive song ---\n",
      "\"My Love\"\n",
      "\n",
      "\n",
      "\n",
      "When I go away\n",
      "I know my heart can stay with my love\n",
      "It's understood\n",
      "Everywhere with my love\n",
      "My love does it good, whoa\n",
      "My love, oh only my love\n",
      "My love does it good\n",
      "\n",
      "And when the cupboard's bare\n",
      "I'll still find something there with my love\n",
      "It's understood\n",
      "Everywhere with my love\n",
      "My love does it so good, whoa\n",
      "My love, oh only my love\n",
      "My love does it good\n",
      "\n",
      "Only my love, oh only my love\n",
      "Only my love, hold the other things to me\n",
      "Oh, only my love, oh only my love\n",
      "Only my love does it go ...\n",
      "\n",
      "\n",
      "=== ROBYN ===\n",
      "Top 3 most positive songs:\n",
      "                                   song  sentiment_score\n",
      "380                    robyn_loveisfree         0.200000\n",
      "319                 robyn_babyforgiveme         0.079470\n",
      "347  robyn_doyoureallywantmeshowrespect         0.073276\n",
      "\n",
      "Bottom 3 most negative songs:\n",
      "                                      song  sentiment_score\n",
      "343  robyn_dontfuckingtellmewhattodo114520        -0.177829\n",
      "342        robyn_dontfuckingtellmewhattodo        -0.177829\n",
      "334                   robyn_criminalintent        -0.112766\n",
      "\n",
      "--- Example lyrics from most positive song ---\n",
      "\"Love Is Free\"\n",
      "\n",
      "\n",
      "\n",
      "Free\n",
      "Love is free, baby\n",
      "Free\n",
      "Love is free, baby\n",
      "Boom boom boom boom boom chica boom\n",
      "Let me give it to you, baby\n",
      "Chica boom chica boom chica boom\n",
      "Chica boom chica boom chica boom\n",
      "Free\n",
      "Love is free, baby\n",
      "Free\n",
      "Love is free, baby\n",
      "Boom boom boom boom boom chica boom\n",
      "Let me give it to you, baby\n",
      "\n",
      "I'ma give it to you, baby\n",
      "I'ma give it when I'm ready\n",
      "Some lose, some steady\n",
      "Some light, some heavy\n",
      "It's all over this city\n",
      "Sometimes in the ugly, sometimes in the pretty\n",
      "You never know where ...\n",
      "\n"
     ]
    }
   ],
   "source": [
    "# Find top and bottom 3 songs for each artist\n",
    "for artist in song_sentiments_df[\"artist\"].unique():\n",
    "    artist_songs = song_sentiments_df[song_sentiments_df[\"artist\"] == artist]\n",
    "    \n",
    "    print(f\"\\n=== {artist.upper()} ===\")\n",
    "    print(\"Top 3 most positive songs:\")\n",
    "    top3 = artist_songs.sort_values(\"sentiment_score\", ascending=False).head(3)\n",
    "    print(top3[[\"song\", \"sentiment_score\"]])\n",
    "    \n",
    "    print(\"\\nBottom 3 most negative songs:\")\n",
    "    bottom3 = artist_songs.sort_values(\"sentiment_score\", ascending=True).head(3)\n",
    "    print(bottom3[[\"song\", \"sentiment_score\"]])\n",
    "    \n",
    "    # Optional: print the lyrics of those songs\n",
    "    print(\"\\n--- Example lyrics from most positive song ---\")\n",
    "    song_name = top3.iloc[0][\"song\"]\n",
    "    print(lyrics_data[artist][song_name][:500], \"...\\n\")  # print first 500 chars\n"
   ]
  },
  {
   "cell_type": "code",
   "execution_count": 33,
   "id": "6e12d083",
   "metadata": {},
   "outputs": [
    {
     "data": {
      "image/png": "[encoded data removed]",
      "text/plain": [
       "<Figure size 800x500 with 1 Axes>"
      ]
     },
     "metadata": {},
     "output_type": "display_data"
    }
   ],
   "source": [
    "import matplotlib.pyplot as plt\n",
    "\n",
    "plt.figure(figsize=(8,5))\n",
    "for artist in song_sentiments_df[\"artist\"].unique():\n",
    "    plt.hist(\n",
    "        song_sentiments_df[song_sentiments_df[\"artist\"] == artist][\"sentiment_score\"],\n",
    "        bins=20, alpha=0.5, label=artist\n",
    "    )\n",
    "\n",
    "plt.xlabel(\"Sentiment Score\")\n",
    "plt.ylabel(\"Number of Songs\")\n",
    "plt.title(\"Distribution of Song Sentiment Scores by Artist\")\n",
    "plt.legend()\n",
    "plt.show()\n"
   ]
  },
  {
   "cell_type": "markdown",
   "id": "1f8334f4",
   "metadata": {},
   "source": [
    "### Questions\n",
    "\n",
    "Q: Overall, which artist has the higher average sentiment per song? \n",
    "\n",
    "A: Cher has the higher average sentiment: 0.015965 for Cher vs 0.011234 for Robyn, so Cher’s catalog is (slightly) more positive on average.\n",
    "\n",
    "---\n",
    "\n",
    "Q: For your first artist, what are the three songs that have the highest and lowest sentiments? Print the lyrics of those songs to the screen. What do you think is driving the sentiment score? \n",
    "\n",
    "A: Highest: “cher_mylove” (0.2461), “cher_moveme” (0.1742), “cher_loveandunderstanding” (0.1502). Lowest: “cher_crymyselftosleep” (−0.1077), “cher_outrageous” (−0.0902), “cher_iwalkonguildedsplinters” (−0.0825). The highs are packed with strongly positive cue words repeated throughout—e.g., love, free, move, understanding, good—so the lexicon adds many +1s. The lows lean on negative terms like cry, sleep (in sad contexts), outrageous, splinters, fall, hurt, which accumulate −1s. Repetition (choruses) and the bag-of-words nature of the method amplify these effects and ignore context/negation.\n",
    "\n",
    "---\n",
    "\n",
    "Q: For your second artist, what are the three songs that have the highest and lowest sentiments? Print the lyrics of those songs to the screen. What do you think is driving the sentiment score? \n",
    "\n",
    "A: Highest: “robyn_loveisfree” (0.2000), “robyn_babyforgiveme” (0.0795), “robyn_doyoureallywantmeshowrespect” (0.0733). Lowest: “robyn_dontfuckingtellmewhattodo114520” (−0.1778), “robyn_dontfuckingtellmewhattodo” (−0.1778), “robyn_criminalintent” (−0.1128). Positives are driven by heavy repetition of words like love, free, baby, forgive, respect. Negatives feature many negative/command/profanity tokens and crime-related terms—don’t, tell, fucking, wrong, criminal, intent—which the lexicon scores as −1; repetition pushes those songs further left.\n",
    "\n",
    "---\n",
    "\n",
    "Q: Plot the distributions of the sentiment scores for both artists. You can use `seaborn` to plot densities or plot histograms in matplotlib.\n",
    "\n",
    "A: Both artists’ histograms are centered near 0 with heavy overlap, indicating many mixed-tone songs. Cher’s distribution sits slightly right of Robyn’s (consistent with the higher mean) and shows a longer positive tail reaching about 0.25 (e.g., “My Love”). Robyn shows a few strong negative outliers around −0.18 to −0.20 (the don’t tell me what to do tracks) and a shorter positive tail topping near 0.20. Overall differences are modest, and shape/spread reflect chorus repetition and lexicon limits (no handling of negation, sarcasm, or context).\n",
    "\n",
    "\n"
   ]
  },
  {
   "cell_type": "markdown",
   "id": "b3fe644d",
   "metadata": {},
   "source": [
    "## Sentiment Analysis on Twitter Descriptions\n",
    "\n",
    "In this section, define two sets of emojis you designate as positive and negative. Make sure to have at least 10 emojis per set. You can learn about the most popular emojis on Twitter at [the emojitracker](https://emojitracker.com/). \n",
    "\n",
    "Associate your positive emojis with a score of +1, negative with -1. Score the average sentiment of your two artists based on the Twitter descriptions of their followers. The average sentiment can just be the total score divided by number of followers. You do not need to calculate sentiment on non-emoji content for this section."
   ]
  },
  {
   "cell_type": "code",
   "execution_count": 41,
   "id": "5e3ca456",
   "metadata": {},
   "outputs": [
    {
     "name": "stdout",
     "output_type": "stream",
     "text": [
      "Loaded Twitter data for 2 artists.\n",
      "cher: 3994804 lines loaded\n",
      "robynkonichiwa: 358373 lines loaded\n"
     ]
    }
   ],
   "source": [
    "import os\n",
    "\n",
    "twitter_path = os.path.join(data_location, twitter_folder)\n",
    "twitter_data = {}\n",
    "\n",
    "# Loop through all .txt files in the twitter folder\n",
    "for file in os.listdir(twitter_path):\n",
    "    if file.endswith(\".txt\") and not file.startswith(\".\"):  # ignore .DS_Store\n",
    "        artist = file.split(\"_followers\")[0]  # extract artist name before \"_followers\"\n",
    "        file_path = os.path.join(twitter_path, file)\n",
    "        \n",
    "        with open(file_path, \"r\", encoding=\"utf-8\", errors=\"ignore\") as f:\n",
    "            lines = f.readlines()\n",
    "            twitter_data[artist] = [line.strip() for line in lines if line.strip()]\n",
    "\n",
    "print(f\"Loaded Twitter data for {len(twitter_data)} artists.\")\n",
    "for artist, descs in twitter_data.items():\n",
    "    print(f\"{artist}: {len(descs)} lines loaded\")\n",
    "\n"
   ]
  },
  {
   "cell_type": "code",
   "execution_count": 42,
   "id": "1a5c1d25",
   "metadata": {},
   "outputs": [
    {
     "name": "stdout",
     "output_type": "stream",
     "text": [
      "           artist  avg_emoji_sentiment  total_emojis\n",
      "0            cher             0.885657        102604\n",
      "1  robynkonichiwa             0.920188          5538\n"
     ]
    }
   ],
   "source": [
    "# --- Step 1: Define emoji sets ---\n",
    "positive_emojis = ['😀', '😃', '😄', '😁', '😊', '😍', '🥰', '🤩', '😇', '❤️', '👍', '💖', '✨', '🥳', '😎']\n",
    "negative_emojis = ['😢', '😭', '😞', '😔', '😠', '😡', '🤬', '💔', '😫', '😩', '😤', '👎', '☹️', '🙁', '😖']\n",
    "\n",
    "emoji_sentiment = {e: 1 for e in positive_emojis}\n",
    "emoji_sentiment.update({e: -1 for e in negative_emojis})\n",
    "\n",
    "# --- Step 2: Function to score emojis in text ---\n",
    "def emoji_score(text):\n",
    "    if not isinstance(text, str):  # Handle non-string cases\n",
    "        text = str(text)\n",
    "    score = 0\n",
    "    count = 0\n",
    "    for ch in text:\n",
    "        if ch in emoji_sentiment:\n",
    "            score += emoji_sentiment[ch]\n",
    "            count += 1\n",
    "    return score, count\n",
    "\n",
    "# --- Step 3: Calculate emoji sentiment per artist ---\n",
    "twitter_results = []\n",
    "\n",
    "for artist, descriptions in twitter_data.items():\n",
    "    total_score = 0\n",
    "    total_emojis = 0\n",
    "    for desc in descriptions:\n",
    "        # Handle if description is a dict with \"description\" key\n",
    "        if isinstance(desc, dict) and \"description\" in desc:\n",
    "            text = desc[\"description\"]\n",
    "        else:\n",
    "            text = str(desc)\n",
    "        s, c = emoji_score(text)\n",
    "        total_score += s\n",
    "        total_emojis += c\n",
    "    \n",
    "    avg_sentiment = total_score / total_emojis if total_emojis > 0 else 0\n",
    "    twitter_results.append({\n",
    "        \"artist\": artist,\n",
    "        \"avg_emoji_sentiment\": avg_sentiment,\n",
    "        \"total_emojis\": total_emojis\n",
    "    })\n",
    "\n",
    "# --- Step 4: Create DataFrame and display ---\n",
    "import pandas as pd\n",
    "twitter_sentiment_df = pd.DataFrame(twitter_results)\n",
    "print(twitter_sentiment_df)\n"
   ]
  },
  {
   "cell_type": "code",
   "execution_count": 45,
   "id": "1bda09b8",
   "metadata": {},
   "outputs": [
    {
     "data": {
      "image/png": "[encoded data removed]",
      "text/plain": [
       "<Figure size 640x480 with 1 Axes>"
      ]
     },
     "metadata": {},
     "output_type": "display_data"
    }
   ],
   "source": [
    "plt.bar(twitter_sentiment_df[\"artist\"], twitter_sentiment_df[\"avg_emoji_sentiment\"])\n",
    "plt.title(\"Average Emoji Sentiment by Artist (Twitter Descriptions)\")\n",
    "plt.ylabel(\"Average Sentiment Score\")\n",
    "plt.show()"
   ]
  },
  {
   "cell_type": "code",
   "execution_count": 47,
   "id": "edc90f62",
   "metadata": {},
   "outputs": [
    {
     "name": "stdout",
     "output_type": "stream",
     "text": [
      "\n",
      "=== cher ===\n",
      "Most popular positive: ✨  (count: 45846)\n",
      "Most popular negative: 💔  (count: 2001)\n",
      "Top 5 positives: [('✨', 45846), ('💖', 11214), ('😍', 8955), ('😎', 6663), ('😊', 5202)]\n",
      "Top 5 negatives: [('💔', 2001), ('😭', 823), ('🤬', 521), ('😔', 464), ('😩', 401)]\n",
      "\n",
      "=== robynkonichiwa ===\n",
      "Most popular positive: ✨  (count: 3217)\n",
      "Most popular negative: 💔  (count: 72)\n",
      "Top 5 positives: [('✨', 3217), ('💖', 531), ('😎', 325), ('😍', 288), ('😊', 206)]\n",
      "Top 5 negatives: [('💔', 72), ('😭', 42), ('🤬', 22), ('😔', 15), ('😩', 14)]\n"
     ]
    }
   ],
   "source": [
    "from collections import Counter\n",
    "\n",
    "pos_set = set(positive_emojis)\n",
    "neg_set = set(negative_emojis)\n",
    "\n",
    "def top_emojis_for_artist(artist, texts):\n",
    "    # count all tracked emojis for this artist\n",
    "    counts = Counter(ch for t in texts for ch in str(t) if ch in emoji_sentiment)\n",
    "    pos_counts = Counter({e: counts[e] for e in pos_set if counts[e] > 0})\n",
    "    neg_counts = Counter({e: counts[e] for e in neg_set if counts[e] > 0})\n",
    "    top_pos = pos_counts.most_common(1)[0] if pos_counts else (\"(none)\", 0)\n",
    "    top_neg = neg_counts.most_common(1)[0] if neg_counts else (\"(none)\", 0)\n",
    "    return top_pos, top_neg, pos_counts.most_common(5), neg_counts.most_common(5)\n",
    "\n",
    "for artist, texts in twitter_data.items():\n",
    "    top_pos, top_neg, top5_pos, top5_neg = top_emojis_for_artist(artist, texts)\n",
    "    print(f\"\\n=== {artist} ===\")\n",
    "    print(f\"Most popular positive: {top_pos[0]}  (count: {top_pos[1]})\")\n",
    "    print(f\"Most popular negative: {top_neg[0]}  (count: {top_neg[1]})\")\n",
    "    print(f\"Top 5 positives: {top5_pos}\")\n",
    "    print(f\"Top 5 negatives: {top5_neg}\")\n"
   ]
  },
  {
   "cell_type": "markdown",
   "id": "fb92eb93",
   "metadata": {},
   "source": [
    "Q: What is the average sentiment of your two artists? \n",
    "\n",
    "A: Cher’s followers have an average emoji sentiment score of 0.886, while Robyn’s followers (under the handle robynkonichiwa) average slightly higher at 0.920. Both communities show overwhelmingly positive emoji use, indicating that their followers’ bios and descriptions are strongly upbeat overall. The difference between the two is small, but Robyn’s followers express positivity a bit more consistently, while Cher’s much larger audience (over 100k emojis) includes a wider range of emotional tone.\n",
    "\n",
    "---\n",
    "\n",
    "Q: Which positive emoji is the most popular for each artist? Which negative emoji? \n",
    "\n",
    "A: For both artists, the sparkles emoji ✨ is the most common positive symbol, representing excitement, glamour, and celebration. Cher’s followers use it 45,846 times and Robyn’s followers 3,217 times.\n",
    "The most frequent negative emoji for both is the broken heart 💔, appearing 2,001 times for Cher and 72 times for Robyn. This suggests that even when followers express negative sentiment, it tends to center around themes of emotional vulnerability rather than anger or hostility. Overall, both fanbases lean heavily toward using joyful, affectionate emojis — fitting for pop artists whose personas celebrate self-expression and empowerment.\n",
    "\n"
   ]
  }
 ],
 "metadata": {
  "kernelspec": {
   "display_name": "Python 3",
   "language": "python",
   "name": "python3"
  },
  "language_info": {
   "codemirror_mode": {
    "name": "ipython",
    "version": 3
   },
   "file_extension": ".py",
   "mimetype": "text/x-python",
   "name": "python",
   "nbconvert_exporter": "python",
   "pygments_lexer": "ipython3",
   "version": "3.10.11"
  }
 },
 "nbformat": 4,
 "nbformat_minor": 5
}
